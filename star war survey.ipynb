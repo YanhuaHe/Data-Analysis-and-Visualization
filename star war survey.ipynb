{
 "cells": [
  {
   "cell_type": "markdown",
   "metadata": {},
   "source": [
    "![\"The Force Awakens\"](http://www.thewrap.com/wp-content/uploads/2015/10/Star-Wars-the-Force-Awakens-Poster-Cropped.jpg)"
   ]
  },
  {
   "cell_type": "markdown",
   "metadata": {},
   "source": [
    "# Star Wars Survey\n",
    "\n",
    "##### The team at FiveThirtyEight used SurveyMonkey, an online survey tool, to survey Star Wars fans. This survay particularly interests in which film is the most popular one of the series. They received 835 responses in total. "
   ]
  },
  {
   "cell_type": "code",
   "execution_count": 644,
   "metadata": {
    "collapsed": true
   },
   "outputs": [],
   "source": [
    "import pandas as pd\n",
    "import numpy as np"
   ]
  },
  {
   "cell_type": "code",
   "execution_count": 645,
   "metadata": {
    "collapsed": true
   },
   "outputs": [],
   "source": [
    "# Some characters are not in the Python default utf-8 encoding, so we need to specify an encoding.\n",
    "star_wars = pd.read_csv(\"star_wars.csv\", encoding= \"ISO-8859-1\")"
   ]
  },
  {
   "cell_type": "code",
   "execution_count": 646,
   "metadata": {
    "collapsed": false
   },
   "outputs": [
    {
     "name": "stdout",
     "output_type": "stream",
     "text": [
      "(1187, 38)\n"
     ]
    }
   ],
   "source": [
    "# How many data points (rows) x how many features (columns)\n",
    "print star_wars.shape"
   ]
  },
  {
   "cell_type": "markdown",
   "metadata": {},
   "source": [
    "### Sneak a peek at data"
   ]
  },
  {
   "cell_type": "code",
   "execution_count": 647,
   "metadata": {
    "collapsed": false,
    "scrolled": true
   },
   "outputs": [
    {
     "name": "stdout",
     "output_type": "stream",
     "text": [
      "<class 'pandas.core.frame.DataFrame'>\n",
      "Int64Index: 1187 entries, 0 to 1186\n",
      "Data columns (total 38 columns):\n",
      "RespondentID                                                                                                                                     1186 non-null float64\n",
      "Have you seen any of the 6 films in the Star Wars franchise?                                                                                     1187 non-null object\n",
      "Do you consider yourself to be a fan of the Star Wars film franchise?                                                                            837 non-null object\n",
      "Which of the following Star Wars films have you seen? Please select all that apply.                                                              674 non-null object\n",
      "Unnamed: 4                                                                                                                                       572 non-null object\n",
      "Unnamed: 5                                                                                                                                       551 non-null object\n",
      "Unnamed: 6                                                                                                                                       608 non-null object\n",
      "Unnamed: 7                                                                                                                                       759 non-null object\n",
      "Unnamed: 8                                                                                                                                       739 non-null object\n",
      "Please rank the Star Wars films in order of preference with 1 being your favorite film in the franchise and 6 being your least favorite film.    836 non-null object\n",
      "Unnamed: 10                                                                                                                                      837 non-null object\n",
      "Unnamed: 11                                                                                                                                      836 non-null object\n",
      "Unnamed: 12                                                                                                                                      837 non-null object\n",
      "Unnamed: 13                                                                                                                                      837 non-null object\n",
      "Unnamed: 14                                                                                                                                      837 non-null object\n",
      "Please state whether you view the following characters favorably, unfavorably, or are unfamiliar with him/her.                                   830 non-null object\n",
      "Unnamed: 16                                                                                                                                      832 non-null object\n",
      "Unnamed: 17                                                                                                                                      832 non-null object\n",
      "Unnamed: 18                                                                                                                                      824 non-null object\n",
      "Unnamed: 19                                                                                                                                      826 non-null object\n",
      "Unnamed: 20                                                                                                                                      815 non-null object\n",
      "Unnamed: 21                                                                                                                                      827 non-null object\n",
      "Unnamed: 22                                                                                                                                      821 non-null object\n",
      "Unnamed: 23                                                                                                                                      813 non-null object\n",
      "Unnamed: 24                                                                                                                                      828 non-null object\n",
      "Unnamed: 25                                                                                                                                      831 non-null object\n",
      "Unnamed: 26                                                                                                                                      822 non-null object\n",
      "Unnamed: 27                                                                                                                                      815 non-null object\n",
      "Unnamed: 28                                                                                                                                      827 non-null object\n",
      "Which character shot first?                                                                                                                      829 non-null object\n",
      "Are you familiar with the Expanded Universe?                                                                                                     829 non-null object\n",
      "Do you consider yourself to be a fan of the Expanded Universe?æ                                                                                 214 non-null object\n",
      "Do you consider yourself to be a fan of the Star Trek franchise?                                                                                 1069 non-null object\n",
      "Gender                                                                                                                                           1047 non-null object\n",
      "Age                                                                                                                                              1047 non-null object\n",
      "Household Income                                                                                                                                 859 non-null object\n",
      "Education                                                                                                                                        1037 non-null object\n",
      "Location (Census Region)                                                                                                                         1044 non-null object\n",
      "dtypes: float64(1), object(37)\n",
      "memory usage: 361.7+ KB\n"
     ]
    }
   ],
   "source": [
    "# Displays the column types, the number of values in the column and the size of the dataframe.\n",
    "star_wars.info()"
   ]
  },
  {
   "cell_type": "code",
   "execution_count": 648,
   "metadata": {
    "collapsed": false
   },
   "outputs": [
    {
     "data": {
      "text/html": [
       "<div>\n",
       "<table border=\"1\" class=\"dataframe\">\n",
       "  <thead>\n",
       "    <tr style=\"text-align: right;\">\n",
       "      <th></th>\n",
       "      <th>RespondentID</th>\n",
       "      <th>Have you seen any of the 6 films in the Star Wars franchise?</th>\n",
       "      <th>Do you consider yourself to be a fan of the Star Wars film franchise?</th>\n",
       "      <th>Which of the following Star Wars films have you seen? Please select all that apply.</th>\n",
       "      <th>Unnamed: 4</th>\n",
       "      <th>Unnamed: 5</th>\n",
       "      <th>Unnamed: 6</th>\n",
       "      <th>Unnamed: 7</th>\n",
       "      <th>Unnamed: 8</th>\n",
       "      <th>Please rank the Star Wars films in order of preference with 1 being your favorite film in the franchise and 6 being your least favorite film.</th>\n",
       "      <th>...</th>\n",
       "      <th>Unnamed: 28</th>\n",
       "      <th>Which character shot first?</th>\n",
       "      <th>Are you familiar with the Expanded Universe?</th>\n",
       "      <th>Do you consider yourself to be a fan of the Expanded Universe?æ</th>\n",
       "      <th>Do you consider yourself to be a fan of the Star Trek franchise?</th>\n",
       "      <th>Gender</th>\n",
       "      <th>Age</th>\n",
       "      <th>Household Income</th>\n",
       "      <th>Education</th>\n",
       "      <th>Location (Census Region)</th>\n",
       "    </tr>\n",
       "  </thead>\n",
       "  <tbody>\n",
       "    <tr>\n",
       "      <th>0</th>\n",
       "      <td>NaN</td>\n",
       "      <td>Response</td>\n",
       "      <td>Response</td>\n",
       "      <td>Star Wars: Episode I  The Phantom Menace</td>\n",
       "      <td>Star Wars: Episode II  Attack of the Clones</td>\n",
       "      <td>Star Wars: Episode III  Revenge of the Sith</td>\n",
       "      <td>Star Wars: Episode IV  A New Hope</td>\n",
       "      <td>Star Wars: Episode V The Empire Strikes Back</td>\n",
       "      <td>Star Wars: Episode VI Return of the Jedi</td>\n",
       "      <td>Star Wars: Episode I  The Phantom Menace</td>\n",
       "      <td>...</td>\n",
       "      <td>Yoda</td>\n",
       "      <td>Response</td>\n",
       "      <td>Response</td>\n",
       "      <td>Response</td>\n",
       "      <td>Response</td>\n",
       "      <td>Response</td>\n",
       "      <td>Response</td>\n",
       "      <td>Response</td>\n",
       "      <td>Response</td>\n",
       "      <td>Response</td>\n",
       "    </tr>\n",
       "    <tr>\n",
       "      <th>1</th>\n",
       "      <td>3292879998</td>\n",
       "      <td>Yes</td>\n",
       "      <td>Yes</td>\n",
       "      <td>Star Wars: Episode I  The Phantom Menace</td>\n",
       "      <td>Star Wars: Episode II  Attack of the Clones</td>\n",
       "      <td>Star Wars: Episode III  Revenge of the Sith</td>\n",
       "      <td>Star Wars: Episode IV  A New Hope</td>\n",
       "      <td>Star Wars: Episode V The Empire Strikes Back</td>\n",
       "      <td>Star Wars: Episode VI Return of the Jedi</td>\n",
       "      <td>3</td>\n",
       "      <td>...</td>\n",
       "      <td>Very favorably</td>\n",
       "      <td>I don't understand this question</td>\n",
       "      <td>Yes</td>\n",
       "      <td>No</td>\n",
       "      <td>No</td>\n",
       "      <td>Male</td>\n",
       "      <td>18-29</td>\n",
       "      <td>NaN</td>\n",
       "      <td>High school degree</td>\n",
       "      <td>South Atlantic</td>\n",
       "    </tr>\n",
       "    <tr>\n",
       "      <th>2</th>\n",
       "      <td>3292879538</td>\n",
       "      <td>No</td>\n",
       "      <td>NaN</td>\n",
       "      <td>NaN</td>\n",
       "      <td>NaN</td>\n",
       "      <td>NaN</td>\n",
       "      <td>NaN</td>\n",
       "      <td>NaN</td>\n",
       "      <td>NaN</td>\n",
       "      <td>NaN</td>\n",
       "      <td>...</td>\n",
       "      <td>NaN</td>\n",
       "      <td>NaN</td>\n",
       "      <td>NaN</td>\n",
       "      <td>NaN</td>\n",
       "      <td>Yes</td>\n",
       "      <td>Male</td>\n",
       "      <td>18-29</td>\n",
       "      <td>$0 - $24,999</td>\n",
       "      <td>Bachelor degree</td>\n",
       "      <td>West South Central</td>\n",
       "    </tr>\n",
       "    <tr>\n",
       "      <th>3</th>\n",
       "      <td>3292765271</td>\n",
       "      <td>Yes</td>\n",
       "      <td>No</td>\n",
       "      <td>Star Wars: Episode I  The Phantom Menace</td>\n",
       "      <td>Star Wars: Episode II  Attack of the Clones</td>\n",
       "      <td>Star Wars: Episode III  Revenge of the Sith</td>\n",
       "      <td>NaN</td>\n",
       "      <td>NaN</td>\n",
       "      <td>NaN</td>\n",
       "      <td>1</td>\n",
       "      <td>...</td>\n",
       "      <td>Unfamiliar (N/A)</td>\n",
       "      <td>I don't understand this question</td>\n",
       "      <td>No</td>\n",
       "      <td>NaN</td>\n",
       "      <td>No</td>\n",
       "      <td>Male</td>\n",
       "      <td>18-29</td>\n",
       "      <td>$0 - $24,999</td>\n",
       "      <td>High school degree</td>\n",
       "      <td>West North Central</td>\n",
       "    </tr>\n",
       "    <tr>\n",
       "      <th>4</th>\n",
       "      <td>3292763116</td>\n",
       "      <td>Yes</td>\n",
       "      <td>Yes</td>\n",
       "      <td>Star Wars: Episode I  The Phantom Menace</td>\n",
       "      <td>Star Wars: Episode II  Attack of the Clones</td>\n",
       "      <td>Star Wars: Episode III  Revenge of the Sith</td>\n",
       "      <td>Star Wars: Episode IV  A New Hope</td>\n",
       "      <td>Star Wars: Episode V The Empire Strikes Back</td>\n",
       "      <td>Star Wars: Episode VI Return of the Jedi</td>\n",
       "      <td>5</td>\n",
       "      <td>...</td>\n",
       "      <td>Very favorably</td>\n",
       "      <td>I don't understand this question</td>\n",
       "      <td>No</td>\n",
       "      <td>NaN</td>\n",
       "      <td>Yes</td>\n",
       "      <td>Male</td>\n",
       "      <td>18-29</td>\n",
       "      <td>$100,000 - $149,999</td>\n",
       "      <td>Some college or Associate degree</td>\n",
       "      <td>West North Central</td>\n",
       "    </tr>\n",
       "    <tr>\n",
       "      <th>5</th>\n",
       "      <td>3292731220</td>\n",
       "      <td>Yes</td>\n",
       "      <td>Yes</td>\n",
       "      <td>Star Wars: Episode I  The Phantom Menace</td>\n",
       "      <td>Star Wars: Episode II  Attack of the Clones</td>\n",
       "      <td>Star Wars: Episode III  Revenge of the Sith</td>\n",
       "      <td>Star Wars: Episode IV  A New Hope</td>\n",
       "      <td>Star Wars: Episode V The Empire Strikes Back</td>\n",
       "      <td>Star Wars: Episode VI Return of the Jedi</td>\n",
       "      <td>5</td>\n",
       "      <td>...</td>\n",
       "      <td>Somewhat favorably</td>\n",
       "      <td>Greedo</td>\n",
       "      <td>Yes</td>\n",
       "      <td>No</td>\n",
       "      <td>No</td>\n",
       "      <td>Male</td>\n",
       "      <td>18-29</td>\n",
       "      <td>$100,000 - $149,999</td>\n",
       "      <td>Some college or Associate degree</td>\n",
       "      <td>West North Central</td>\n",
       "    </tr>\n",
       "    <tr>\n",
       "      <th>6</th>\n",
       "      <td>3292719380</td>\n",
       "      <td>Yes</td>\n",
       "      <td>Yes</td>\n",
       "      <td>Star Wars: Episode I  The Phantom Menace</td>\n",
       "      <td>Star Wars: Episode II  Attack of the Clones</td>\n",
       "      <td>Star Wars: Episode III  Revenge of the Sith</td>\n",
       "      <td>Star Wars: Episode IV  A New Hope</td>\n",
       "      <td>Star Wars: Episode V The Empire Strikes Back</td>\n",
       "      <td>Star Wars: Episode VI Return of the Jedi</td>\n",
       "      <td>1</td>\n",
       "      <td>...</td>\n",
       "      <td>Very favorably</td>\n",
       "      <td>Han</td>\n",
       "      <td>Yes</td>\n",
       "      <td>No</td>\n",
       "      <td>Yes</td>\n",
       "      <td>Male</td>\n",
       "      <td>18-29</td>\n",
       "      <td>$25,000 - $49,999</td>\n",
       "      <td>Bachelor degree</td>\n",
       "      <td>Middle Atlantic</td>\n",
       "    </tr>\n",
       "    <tr>\n",
       "      <th>7</th>\n",
       "      <td>3292684787</td>\n",
       "      <td>Yes</td>\n",
       "      <td>Yes</td>\n",
       "      <td>Star Wars: Episode I  The Phantom Menace</td>\n",
       "      <td>Star Wars: Episode II  Attack of the Clones</td>\n",
       "      <td>Star Wars: Episode III  Revenge of the Sith</td>\n",
       "      <td>Star Wars: Episode IV  A New Hope</td>\n",
       "      <td>Star Wars: Episode V The Empire Strikes Back</td>\n",
       "      <td>Star Wars: Episode VI Return of the Jedi</td>\n",
       "      <td>6</td>\n",
       "      <td>...</td>\n",
       "      <td>Very favorably</td>\n",
       "      <td>Han</td>\n",
       "      <td>Yes</td>\n",
       "      <td>No</td>\n",
       "      <td>No</td>\n",
       "      <td>Male</td>\n",
       "      <td>18-29</td>\n",
       "      <td>NaN</td>\n",
       "      <td>High school degree</td>\n",
       "      <td>East North Central</td>\n",
       "    </tr>\n",
       "    <tr>\n",
       "      <th>8</th>\n",
       "      <td>3292663732</td>\n",
       "      <td>Yes</td>\n",
       "      <td>Yes</td>\n",
       "      <td>Star Wars: Episode I  The Phantom Menace</td>\n",
       "      <td>Star Wars: Episode II  Attack of the Clones</td>\n",
       "      <td>Star Wars: Episode III  Revenge of the Sith</td>\n",
       "      <td>Star Wars: Episode IV  A New Hope</td>\n",
       "      <td>Star Wars: Episode V The Empire Strikes Back</td>\n",
       "      <td>Star Wars: Episode VI Return of the Jedi</td>\n",
       "      <td>4</td>\n",
       "      <td>...</td>\n",
       "      <td>Very favorably</td>\n",
       "      <td>Han</td>\n",
       "      <td>No</td>\n",
       "      <td>NaN</td>\n",
       "      <td>Yes</td>\n",
       "      <td>Male</td>\n",
       "      <td>18-29</td>\n",
       "      <td>NaN</td>\n",
       "      <td>High school degree</td>\n",
       "      <td>South Atlantic</td>\n",
       "    </tr>\n",
       "    <tr>\n",
       "      <th>9</th>\n",
       "      <td>3292654043</td>\n",
       "      <td>Yes</td>\n",
       "      <td>Yes</td>\n",
       "      <td>Star Wars: Episode I  The Phantom Menace</td>\n",
       "      <td>Star Wars: Episode II  Attack of the Clones</td>\n",
       "      <td>Star Wars: Episode III  Revenge of the Sith</td>\n",
       "      <td>Star Wars: Episode IV  A New Hope</td>\n",
       "      <td>Star Wars: Episode V The Empire Strikes Back</td>\n",
       "      <td>Star Wars: Episode VI Return of the Jedi</td>\n",
       "      <td>5</td>\n",
       "      <td>...</td>\n",
       "      <td>Somewhat favorably</td>\n",
       "      <td>Han</td>\n",
       "      <td>No</td>\n",
       "      <td>NaN</td>\n",
       "      <td>No</td>\n",
       "      <td>Male</td>\n",
       "      <td>18-29</td>\n",
       "      <td>$0 - $24,999</td>\n",
       "      <td>Some college or Associate degree</td>\n",
       "      <td>South Atlantic</td>\n",
       "    </tr>\n",
       "  </tbody>\n",
       "</table>\n",
       "<p>10 rows × 38 columns</p>\n",
       "</div>"
      ],
      "text/plain": [
       "   RespondentID Have you seen any of the 6 films in the Star Wars franchise?  \\\n",
       "0           NaN                                           Response             \n",
       "1    3292879998                                                Yes             \n",
       "2    3292879538                                                 No             \n",
       "3    3292765271                                                Yes             \n",
       "4    3292763116                                                Yes             \n",
       "5    3292731220                                                Yes             \n",
       "6    3292719380                                                Yes             \n",
       "7    3292684787                                                Yes             \n",
       "8    3292663732                                                Yes             \n",
       "9    3292654043                                                Yes             \n",
       "\n",
       "  Do you consider yourself to be a fan of the Star Wars film franchise?  \\\n",
       "0                                           Response                      \n",
       "1                                                Yes                      \n",
       "2                                                NaN                      \n",
       "3                                                 No                      \n",
       "4                                                Yes                      \n",
       "5                                                Yes                      \n",
       "6                                                Yes                      \n",
       "7                                                Yes                      \n",
       "8                                                Yes                      \n",
       "9                                                Yes                      \n",
       "\n",
       "  Which of the following Star Wars films have you seen? Please select all that apply.  \\\n",
       "0           Star Wars: Episode I  The Phantom Menace                                    \n",
       "1           Star Wars: Episode I  The Phantom Menace                                    \n",
       "2                                                NaN                                    \n",
       "3           Star Wars: Episode I  The Phantom Menace                                    \n",
       "4           Star Wars: Episode I  The Phantom Menace                                    \n",
       "5           Star Wars: Episode I  The Phantom Menace                                    \n",
       "6           Star Wars: Episode I  The Phantom Menace                                    \n",
       "7           Star Wars: Episode I  The Phantom Menace                                    \n",
       "8           Star Wars: Episode I  The Phantom Menace                                    \n",
       "9           Star Wars: Episode I  The Phantom Menace                                    \n",
       "\n",
       "                                    Unnamed: 4  \\\n",
       "0  Star Wars: Episode II  Attack of the Clones   \n",
       "1  Star Wars: Episode II  Attack of the Clones   \n",
       "2                                          NaN   \n",
       "3  Star Wars: Episode II  Attack of the Clones   \n",
       "4  Star Wars: Episode II  Attack of the Clones   \n",
       "5  Star Wars: Episode II  Attack of the Clones   \n",
       "6  Star Wars: Episode II  Attack of the Clones   \n",
       "7  Star Wars: Episode II  Attack of the Clones   \n",
       "8  Star Wars: Episode II  Attack of the Clones   \n",
       "9  Star Wars: Episode II  Attack of the Clones   \n",
       "\n",
       "                                    Unnamed: 5  \\\n",
       "0  Star Wars: Episode III  Revenge of the Sith   \n",
       "1  Star Wars: Episode III  Revenge of the Sith   \n",
       "2                                          NaN   \n",
       "3  Star Wars: Episode III  Revenge of the Sith   \n",
       "4  Star Wars: Episode III  Revenge of the Sith   \n",
       "5  Star Wars: Episode III  Revenge of the Sith   \n",
       "6  Star Wars: Episode III  Revenge of the Sith   \n",
       "7  Star Wars: Episode III  Revenge of the Sith   \n",
       "8  Star Wars: Episode III  Revenge of the Sith   \n",
       "9  Star Wars: Episode III  Revenge of the Sith   \n",
       "\n",
       "                          Unnamed: 6  \\\n",
       "0  Star Wars: Episode IV  A New Hope   \n",
       "1  Star Wars: Episode IV  A New Hope   \n",
       "2                                NaN   \n",
       "3                                NaN   \n",
       "4  Star Wars: Episode IV  A New Hope   \n",
       "5  Star Wars: Episode IV  A New Hope   \n",
       "6  Star Wars: Episode IV  A New Hope   \n",
       "7  Star Wars: Episode IV  A New Hope   \n",
       "8  Star Wars: Episode IV  A New Hope   \n",
       "9  Star Wars: Episode IV  A New Hope   \n",
       "\n",
       "                                     Unnamed: 7  \\\n",
       "0  Star Wars: Episode V The Empire Strikes Back   \n",
       "1  Star Wars: Episode V The Empire Strikes Back   \n",
       "2                                           NaN   \n",
       "3                                           NaN   \n",
       "4  Star Wars: Episode V The Empire Strikes Back   \n",
       "5  Star Wars: Episode V The Empire Strikes Back   \n",
       "6  Star Wars: Episode V The Empire Strikes Back   \n",
       "7  Star Wars: Episode V The Empire Strikes Back   \n",
       "8  Star Wars: Episode V The Empire Strikes Back   \n",
       "9  Star Wars: Episode V The Empire Strikes Back   \n",
       "\n",
       "                                 Unnamed: 8  \\\n",
       "0  Star Wars: Episode VI Return of the Jedi   \n",
       "1  Star Wars: Episode VI Return of the Jedi   \n",
       "2                                       NaN   \n",
       "3                                       NaN   \n",
       "4  Star Wars: Episode VI Return of the Jedi   \n",
       "5  Star Wars: Episode VI Return of the Jedi   \n",
       "6  Star Wars: Episode VI Return of the Jedi   \n",
       "7  Star Wars: Episode VI Return of the Jedi   \n",
       "8  Star Wars: Episode VI Return of the Jedi   \n",
       "9  Star Wars: Episode VI Return of the Jedi   \n",
       "\n",
       "  Please rank the Star Wars films in order of preference with 1 being your favorite film in the franchise and 6 being your least favorite film.  \\\n",
       "0           Star Wars: Episode I  The Phantom Menace                                                                                              \n",
       "1                                                  3                                                                                              \n",
       "2                                                NaN                                                                                              \n",
       "3                                                  1                                                                                              \n",
       "4                                                  5                                                                                              \n",
       "5                                                  5                                                                                              \n",
       "6                                                  1                                                                                              \n",
       "7                                                  6                                                                                              \n",
       "8                                                  4                                                                                              \n",
       "9                                                  5                                                                                              \n",
       "\n",
       "            ...                    Unnamed: 28  \\\n",
       "0           ...                           Yoda   \n",
       "1           ...                 Very favorably   \n",
       "2           ...                            NaN   \n",
       "3           ...               Unfamiliar (N/A)   \n",
       "4           ...                 Very favorably   \n",
       "5           ...             Somewhat favorably   \n",
       "6           ...                 Very favorably   \n",
       "7           ...                 Very favorably   \n",
       "8           ...                 Very favorably   \n",
       "9           ...             Somewhat favorably   \n",
       "\n",
       "        Which character shot first?  \\\n",
       "0                          Response   \n",
       "1  I don't understand this question   \n",
       "2                               NaN   \n",
       "3  I don't understand this question   \n",
       "4  I don't understand this question   \n",
       "5                            Greedo   \n",
       "6                               Han   \n",
       "7                               Han   \n",
       "8                               Han   \n",
       "9                               Han   \n",
       "\n",
       "  Are you familiar with the Expanded Universe?  \\\n",
       "0                                     Response   \n",
       "1                                          Yes   \n",
       "2                                          NaN   \n",
       "3                                           No   \n",
       "4                                           No   \n",
       "5                                          Yes   \n",
       "6                                          Yes   \n",
       "7                                          Yes   \n",
       "8                                           No   \n",
       "9                                           No   \n",
       "\n",
       "  Do you consider yourself to be a fan of the Expanded Universe?æ  \\\n",
       "0                                           Response                 \n",
       "1                                                 No                 \n",
       "2                                                NaN                 \n",
       "3                                                NaN                 \n",
       "4                                                NaN                 \n",
       "5                                                 No                 \n",
       "6                                                 No                 \n",
       "7                                                 No                 \n",
       "8                                                NaN                 \n",
       "9                                                NaN                 \n",
       "\n",
       "  Do you consider yourself to be a fan of the Star Trek franchise?    Gender  \\\n",
       "0                                           Response                Response   \n",
       "1                                                 No                    Male   \n",
       "2                                                Yes                    Male   \n",
       "3                                                 No                    Male   \n",
       "4                                                Yes                    Male   \n",
       "5                                                 No                    Male   \n",
       "6                                                Yes                    Male   \n",
       "7                                                 No                    Male   \n",
       "8                                                Yes                    Male   \n",
       "9                                                 No                    Male   \n",
       "\n",
       "        Age     Household Income                         Education  \\\n",
       "0  Response             Response                          Response   \n",
       "1     18-29                  NaN                High school degree   \n",
       "2     18-29         $0 - $24,999                   Bachelor degree   \n",
       "3     18-29         $0 - $24,999                High school degree   \n",
       "4     18-29  $100,000 - $149,999  Some college or Associate degree   \n",
       "5     18-29  $100,000 - $149,999  Some college or Associate degree   \n",
       "6     18-29    $25,000 - $49,999                   Bachelor degree   \n",
       "7     18-29                  NaN                High school degree   \n",
       "8     18-29                  NaN                High school degree   \n",
       "9     18-29         $0 - $24,999  Some college or Associate degree   \n",
       "\n",
       "  Location (Census Region)  \n",
       "0                 Response  \n",
       "1           South Atlantic  \n",
       "2       West South Central  \n",
       "3       West North Central  \n",
       "4       West North Central  \n",
       "5       West North Central  \n",
       "6          Middle Atlantic  \n",
       "7       East North Central  \n",
       "8           South Atlantic  \n",
       "9           South Atlantic  \n",
       "\n",
       "[10 rows x 38 columns]"
      ]
     },
     "execution_count": 648,
     "metadata": {},
     "output_type": "execute_result"
    }
   ],
   "source": [
    "# Explore the data and look for strange values \n",
    "star_wars.head(10)"
   ]
  },
  {
   "cell_type": "code",
   "execution_count": 649,
   "metadata": {
    "collapsed": false
   },
   "outputs": [
    {
     "data": {
      "text/plain": [
       "Index([                                                                                                                                 u'RespondentID',\n",
       "                                                                                        u'Have you seen any of the 6 films in the Star Wars franchise?',\n",
       "                                                                               u'Do you consider yourself to be a fan of the Star Wars film franchise?',\n",
       "                                                                 u'Which of the following Star Wars films have you seen? Please select all that apply.',\n",
       "                                                                                                                                          u'Unnamed: 4',\n",
       "                                                                                                                                          u'Unnamed: 5',\n",
       "                                                                                                                                          u'Unnamed: 6',\n",
       "                                                                                                                                          u'Unnamed: 7',\n",
       "                                                                                                                                          u'Unnamed: 8',\n",
       "       u'Please rank the Star Wars films in order of preference with 1 being your favorite film in the franchise and 6 being your least favorite film.',\n",
       "                                                                                                                                         u'Unnamed: 10',\n",
       "                                                                                                                                         u'Unnamed: 11',\n",
       "                                                                                                                                         u'Unnamed: 12',\n",
       "                                                                                                                                         u'Unnamed: 13',\n",
       "                                                                                                                                         u'Unnamed: 14',\n",
       "                                      u'Please state whether you view the following characters favorably, unfavorably, or are unfamiliar with him/her.',\n",
       "                                                                                                                                         u'Unnamed: 16',\n",
       "                                                                                                                                         u'Unnamed: 17',\n",
       "                                                                                                                                         u'Unnamed: 18',\n",
       "                                                                                                                                         u'Unnamed: 19',\n",
       "                                                                                                                                         u'Unnamed: 20',\n",
       "                                                                                                                                         u'Unnamed: 21',\n",
       "                                                                                                                                         u'Unnamed: 22',\n",
       "                                                                                                                                         u'Unnamed: 23',\n",
       "                                                                                                                                         u'Unnamed: 24',\n",
       "                                                                                                                                         u'Unnamed: 25',\n",
       "                                                                                                                                         u'Unnamed: 26',\n",
       "                                                                                                                                         u'Unnamed: 27',\n",
       "                                                                                                                                         u'Unnamed: 28',\n",
       "                                                                                                                         u'Which character shot first?',\n",
       "                                                                                                        u'Are you familiar with the Expanded Universe?',\n",
       "                                                                                    u'Do you consider yourself to be a fan of the Expanded Universe?æ',\n",
       "                                                                                    u'Do you consider yourself to be a fan of the Star Trek franchise?',\n",
       "                                                                                                                                              u'Gender',\n",
       "                                                                                                                                                 u'Age',\n",
       "                                                                                                                                    u'Household Income',\n",
       "                                                                                                                                           u'Education',\n",
       "                                                                                                                            u'Location (Census Region)'],\n",
       "      dtype='object')"
      ]
     },
     "execution_count": 649,
     "metadata": {},
     "output_type": "execute_result"
    }
   ],
   "source": [
    "star_wars.columns"
   ]
  },
  {
   "cell_type": "code",
   "execution_count": 650,
   "metadata": {
    "collapsed": false
   },
   "outputs": [
    {
     "data": {
      "text/html": [
       "<div>\n",
       "<table border=\"1\" class=\"dataframe\">\n",
       "  <thead>\n",
       "    <tr style=\"text-align: right;\">\n",
       "      <th></th>\n",
       "      <th>RespondentID</th>\n",
       "      <th>Have you seen any of the 6 films in the Star Wars franchise?</th>\n",
       "      <th>Do you consider yourself to be a fan of the Star Wars film franchise?</th>\n",
       "      <th>Which of the following Star Wars films have you seen? Please select all that apply.</th>\n",
       "      <th>Unnamed: 4</th>\n",
       "      <th>Unnamed: 5</th>\n",
       "      <th>Unnamed: 6</th>\n",
       "      <th>Unnamed: 7</th>\n",
       "      <th>Unnamed: 8</th>\n",
       "      <th>Please rank the Star Wars films in order of preference with 1 being your favorite film in the franchise and 6 being your least favorite film.</th>\n",
       "      <th>...</th>\n",
       "      <th>Unnamed: 28</th>\n",
       "      <th>Which character shot first?</th>\n",
       "      <th>Are you familiar with the Expanded Universe?</th>\n",
       "      <th>Do you consider yourself to be a fan of the Expanded Universe?æ</th>\n",
       "      <th>Do you consider yourself to be a fan of the Star Trek franchise?</th>\n",
       "      <th>Gender</th>\n",
       "      <th>Age</th>\n",
       "      <th>Household Income</th>\n",
       "      <th>Education</th>\n",
       "      <th>Location (Census Region)</th>\n",
       "    </tr>\n",
       "  </thead>\n",
       "  <tbody>\n",
       "    <tr>\n",
       "      <th>0</th>\n",
       "      <td>NaN</td>\n",
       "      <td>Response</td>\n",
       "      <td>Response</td>\n",
       "      <td>Star Wars: Episode I  The Phantom Menace</td>\n",
       "      <td>Star Wars: Episode II  Attack of the Clones</td>\n",
       "      <td>Star Wars: Episode III  Revenge of the Sith</td>\n",
       "      <td>Star Wars: Episode IV  A New Hope</td>\n",
       "      <td>Star Wars: Episode V The Empire Strikes Back</td>\n",
       "      <td>Star Wars: Episode VI Return of the Jedi</td>\n",
       "      <td>Star Wars: Episode I  The Phantom Menace</td>\n",
       "      <td>...</td>\n",
       "      <td>Yoda</td>\n",
       "      <td>Response</td>\n",
       "      <td>Response</td>\n",
       "      <td>Response</td>\n",
       "      <td>Response</td>\n",
       "      <td>Response</td>\n",
       "      <td>Response</td>\n",
       "      <td>Response</td>\n",
       "      <td>Response</td>\n",
       "      <td>Response</td>\n",
       "    </tr>\n",
       "  </tbody>\n",
       "</table>\n",
       "<p>1 rows × 38 columns</p>\n",
       "</div>"
      ],
      "text/plain": [
       "   RespondentID Have you seen any of the 6 films in the Star Wars franchise?  \\\n",
       "0           NaN                                           Response             \n",
       "\n",
       "  Do you consider yourself to be a fan of the Star Wars film franchise?  \\\n",
       "0                                           Response                      \n",
       "\n",
       "  Which of the following Star Wars films have you seen? Please select all that apply.  \\\n",
       "0           Star Wars: Episode I  The Phantom Menace                                    \n",
       "\n",
       "                                    Unnamed: 4  \\\n",
       "0  Star Wars: Episode II  Attack of the Clones   \n",
       "\n",
       "                                    Unnamed: 5  \\\n",
       "0  Star Wars: Episode III  Revenge of the Sith   \n",
       "\n",
       "                          Unnamed: 6  \\\n",
       "0  Star Wars: Episode IV  A New Hope   \n",
       "\n",
       "                                     Unnamed: 7  \\\n",
       "0  Star Wars: Episode V The Empire Strikes Back   \n",
       "\n",
       "                                 Unnamed: 8  \\\n",
       "0  Star Wars: Episode VI Return of the Jedi   \n",
       "\n",
       "  Please rank the Star Wars films in order of preference with 1 being your favorite film in the franchise and 6 being your least favorite film.  \\\n",
       "0           Star Wars: Episode I  The Phantom Menace                                                                                              \n",
       "\n",
       "            ...            Unnamed: 28 Which character shot first?  \\\n",
       "0           ...                   Yoda                    Response   \n",
       "\n",
       "  Are you familiar with the Expanded Universe?  \\\n",
       "0                                     Response   \n",
       "\n",
       "  Do you consider yourself to be a fan of the Expanded Universe?æ  \\\n",
       "0                                           Response                 \n",
       "\n",
       "  Do you consider yourself to be a fan of the Star Trek franchise?    Gender  \\\n",
       "0                                           Response                Response   \n",
       "\n",
       "        Age Household Income Education Location (Census Region)  \n",
       "0  Response         Response  Response                 Response  \n",
       "\n",
       "[1 rows x 38 columns]"
      ]
     },
     "execution_count": 650,
     "metadata": {},
     "output_type": "execute_result"
    }
   ],
   "source": [
    "# Print the header & first row \n",
    "star_wars.iloc[0:1,:]"
   ]
  },
  {
   "cell_type": "code",
   "execution_count": 651,
   "metadata": {
    "collapsed": false
   },
   "outputs": [
    {
     "data": {
      "text/plain": [
       "[nan,\n",
       " u'Response',\n",
       " u'Response',\n",
       " u'Star Wars: Episode I  The Phantom Menace',\n",
       " u'Star Wars: Episode II  Attack of the Clones',\n",
       " u'Star Wars: Episode III  Revenge of the Sith',\n",
       " u'Star Wars: Episode IV  A New Hope',\n",
       " u'Star Wars: Episode V The Empire Strikes Back',\n",
       " u'Star Wars: Episode VI Return of the Jedi',\n",
       " u'Star Wars: Episode I  The Phantom Menace',\n",
       " u'Star Wars: Episode II  Attack of the Clones',\n",
       " u'Star Wars: Episode III  Revenge of the Sith',\n",
       " u'Star Wars: Episode IV  A New Hope',\n",
       " u'Star Wars: Episode V The Empire Strikes Back',\n",
       " u'Star Wars: Episode VI Return of the Jedi',\n",
       " u'Han Solo',\n",
       " u'Luke Skywalker',\n",
       " u'Princess Leia Organa',\n",
       " u'Anakin Skywalker',\n",
       " u'Obi Wan Kenobi',\n",
       " u'Emperor Palpatine',\n",
       " u'Darth Vader',\n",
       " u'Lando Calrissian',\n",
       " u'Boba Fett',\n",
       " u'C-3P0',\n",
       " u'R2 D2',\n",
       " u'Jar Jar Binks',\n",
       " u'Padme Amidala',\n",
       " u'Yoda',\n",
       " u'Response',\n",
       " u'Response',\n",
       " u'Response',\n",
       " u'Response',\n",
       " u'Response',\n",
       " u'Response',\n",
       " u'Response',\n",
       " u'Response',\n",
       " u'Response']"
      ]
     },
     "execution_count": 651,
     "metadata": {},
     "output_type": "execute_result"
    }
   ],
   "source": [
    "star_wars.iloc[0,:].tolist()"
   ]
  },
  {
   "cell_type": "markdown",
   "metadata": {},
   "source": [
    "####  I saw there are many unspecified column names.  It is because *row 0* contains the check box options given by the surveyer which are important information to understand what each question is asking, and what the replies mean. I will rename the header row to make it more clear. "
   ]
  },
  {
   "cell_type": "markdown",
   "metadata": {},
   "source": [
    "### Data Wrangling\n",
    "This dataset needs a lot of cleaning due to a lot of 'str' answers not easy for analysis, as well as many invalid rows with NaN values."
   ]
  },
  {
   "cell_type": "code",
   "execution_count": 652,
   "metadata": {
    "collapsed": false
   },
   "outputs": [],
   "source": [
    "# Remove rows where RespondentID is NaN, since the second header row will be removed, I save the info of the header rows to \n",
    "# variable \"header\". \n",
    "header = star_wars.iloc[0:1,:]\n",
    "star_wars = star_wars[pd.notnull(star_wars[\"RespondentID\"])]"
   ]
  },
  {
   "cell_type": "markdown",
   "metadata": {},
   "source": [
    "##### Colume 1-2: those two questions are both Yes/No questions. \n",
    "* `Have you seen any of the 6 films in the Star Wars franchise?`\n",
    "* `Do you consider yourself to be a fan of the Star Wars film franchise?`"
   ]
  },
  {
   "cell_type": "code",
   "execution_count": 653,
   "metadata": {
    "collapsed": false
   },
   "outputs": [
    {
     "data": {
      "text/plain": [
       "Yes    936\n",
       "No     250\n",
       "Name: Have you seen any of the 6 films in the Star Wars franchise?, dtype: int64"
      ]
     },
     "execution_count": 653,
     "metadata": {},
     "output_type": "execute_result"
    }
   ],
   "source": [
    "star_wars[\"Have you seen any of the 6 films in the Star Wars franchise?\"].value_counts(dropna=False)"
   ]
  },
  {
   "cell_type": "code",
   "execution_count": 654,
   "metadata": {
    "collapsed": false
   },
   "outputs": [
    {
     "data": {
      "text/plain": [
       "Yes    552\n",
       "NaN    350\n",
       "No     284\n",
       "Name: Do you consider yourself to be a fan of the Star Wars film franchise?, dtype: int64"
      ]
     },
     "execution_count": 654,
     "metadata": {},
     "output_type": "execute_result"
    }
   ],
   "source": [
    "star_wars[\"Do you consider yourself to be a fan of the Star Wars film franchise?\"].value_counts(dropna=False)"
   ]
  },
  {
   "cell_type": "code",
   "execution_count": 655,
   "metadata": {
    "collapsed": true
   },
   "outputs": [],
   "source": [
    "# Both columns are currently string types (Yes or No). In order to make it a bit easier to analyze down the line, \n",
    "# convert each column to a Boolean\n",
    "yes_no = {\"Yes\": True, \"No\": False}\n",
    "have_you_seen_boolean = star_wars[\"Have you seen any of the 6 films in the Star Wars franchise?\"].map(yes_no)\n",
    "which_seen_boolean = star_wars[\"Which of the following Star Wars films have you seen? Please select all that apply.\"].map(yes_no)"
   ]
  },
  {
   "cell_type": "markdown",
   "metadata": {},
   "source": [
    "##### Column 3-8: the next 6 columns represent a checkbox question, and several column names are as \"Unnamed\" which is quite confusing.\n",
    "The respondent was asked the below question and then was able to check off a series of boxes indicating which movies they saw.\n",
    "For each of these columns, if the value in a cell is the name of the movie, that means the respondent saw it. If the value is NaN, the respondent either didn't answer, or didn't see the movie, but we'll assume that they didn't see the movie.\n",
    "\n",
    ">Which of the following Star Wars films have you seen? Please select all that apply.\n"
   ]
  },
  {
   "cell_type": "markdown",
   "metadata": {},
   "source": [
    "###### It's better to rename the column to have a more clear name instead of \"Unnamed\", also convert the answers to a Boolean.\n",
    "I will use **seen_1** as the column name to indicate if the respondent saw Star Wars: Episode I The Phantom Menace; **seen_2** for Star Wars: Episode II Attack of the Clones, and so on."
   ]
  },
  {
   "cell_type": "code",
   "execution_count": 656,
   "metadata": {
    "collapsed": false
   },
   "outputs": [],
   "source": [
    "# Create a column name map list\n",
    "seen_maplist = {star_wars.columns[3]:\"seen_1\",star_wars.columns[4]:\"seen_2\",star_wars.columns[5]:\"seen_3\",\n",
    "            star_wars.columns[6]:\"seen_4\",star_wars.columns[7]:\"seen_5\",star_wars.columns[8]:\"seen_6\"}\n",
    "\n",
    "# Rename the selected columns \n",
    "star_wars = star_wars.rename(columns=seen_maplist)"
   ]
  },
  {
   "cell_type": "code",
   "execution_count": 657,
   "metadata": {
    "collapsed": true
   },
   "outputs": [],
   "source": [
    "# Map the answers to boolean values, if the anwer is NaN, we assume the respondent didn't see the movie\n",
    "seen_1_map = {\"Star Wars: Episode I  The Phantom Menace\" : True, None : False}\n",
    "seen_2_map = {\"Star Wars: Episode II  Attack of the Clones\" : True, None : False}\n",
    "seen_3_map = {\"Star Wars: Episode III  Revenge of the Sith\" : True, None : False}\n",
    "seen_4_map = {\"Star Wars: Episode IV  A New Hope\":True, None: False}\n",
    "seen_5_map = {\"Star Wars: Episode V The Empire Strikes Back\":True, None : False}\n",
    "seen_6_map = {\"Star Wars: Episode VI Return of the Jedi\":True, None: False}\n",
    "\n",
    "# Convert the answers to boolean\n",
    "star_wars[\"seen_1\"] = star_wars[\"seen_1\"].map(seen_1_map)\n",
    "star_wars[\"seen_2\"] = star_wars[\"seen_2\"].map(seen_2_map)\n",
    "star_wars[\"seen_3\"] = star_wars[\"seen_3\"].map(seen_3_map)\n",
    "star_wars[\"seen_4\"] = star_wars[\"seen_4\"].map(seen_4_map)\n",
    "star_wars[\"seen_5\"] = star_wars[\"seen_5\"].map(seen_5_map)\n",
    "star_wars[\"seen_6\"] = star_wars[\"seen_6\"].map(seen_6_map)"
   ]
  },
  {
   "cell_type": "markdown",
   "metadata": {},
   "source": [
    "##### Column 9-14: the next 6 columns ask the respondent to rank the Star Wars episodes I~VI in order of least to most favorite. 1 means the film was their most favorite, and 6 means it was their least favorite.\n",
    "\n",
    "I will convert each column to a numeric type, then rename the columns so that they can tell what they're more easily."
   ]
  },
  {
   "cell_type": "code",
   "execution_count": 658,
   "metadata": {
    "collapsed": false
   },
   "outputs": [],
   "source": [
    "# Since there are NaN values, we will convert the columns to a float type.\n",
    "star_wars[star_wars.columns[9:15]] = star_wars[star_wars.columns[9:15]].astype(float)"
   ]
  },
  {
   "cell_type": "code",
   "execution_count": 659,
   "metadata": {
    "collapsed": false
   },
   "outputs": [],
   "source": [
    "# Create a column name map list\n",
    "ranking_maplist = {star_wars.columns[9]:\"ranking_1\",star_wars.columns[10]:\"ranking_2\",star_wars.columns[11]:\"ranking_3\",\n",
    "                   star_wars.columns[12]:\"ranking_4\",star_wars.columns[13]:\"ranking_5\",star_wars.columns[14]:\"ranking_6\"}\n",
    "\n",
    "# Rename the selected columns \n",
    "star_wars = star_wars.rename(columns=ranking_maplist)"
   ]
  },
  {
   "cell_type": "markdown",
   "metadata": {},
   "source": [
    "##### Column 15-28: the next question asks the respondents how they view a specific character in terms of the level of favor. "
   ]
  },
  {
   "cell_type": "code",
   "execution_count": 660,
   "metadata": {
    "collapsed": false
   },
   "outputs": [
    {
     "data": {
      "text/html": [
       "<div>\n",
       "<table border=\"1\" class=\"dataframe\">\n",
       "  <thead>\n",
       "    <tr style=\"text-align: right;\">\n",
       "      <th></th>\n",
       "      <th>Please state whether you view the following characters favorably, unfavorably, or are unfamiliar with him/her.</th>\n",
       "      <th>Unnamed: 16</th>\n",
       "      <th>Unnamed: 17</th>\n",
       "      <th>Unnamed: 18</th>\n",
       "      <th>Unnamed: 19</th>\n",
       "      <th>Unnamed: 20</th>\n",
       "      <th>Unnamed: 21</th>\n",
       "      <th>Unnamed: 22</th>\n",
       "      <th>Unnamed: 23</th>\n",
       "      <th>Unnamed: 24</th>\n",
       "      <th>Unnamed: 25</th>\n",
       "      <th>Unnamed: 26</th>\n",
       "      <th>Unnamed: 27</th>\n",
       "      <th>Unnamed: 28</th>\n",
       "    </tr>\n",
       "  </thead>\n",
       "  <tbody>\n",
       "    <tr>\n",
       "      <th>0</th>\n",
       "      <td>Han Solo</td>\n",
       "      <td>Luke Skywalker</td>\n",
       "      <td>Princess Leia Organa</td>\n",
       "      <td>Anakin Skywalker</td>\n",
       "      <td>Obi Wan Kenobi</td>\n",
       "      <td>Emperor Palpatine</td>\n",
       "      <td>Darth Vader</td>\n",
       "      <td>Lando Calrissian</td>\n",
       "      <td>Boba Fett</td>\n",
       "      <td>C-3P0</td>\n",
       "      <td>R2 D2</td>\n",
       "      <td>Jar Jar Binks</td>\n",
       "      <td>Padme Amidala</td>\n",
       "      <td>Yoda</td>\n",
       "    </tr>\n",
       "  </tbody>\n",
       "</table>\n",
       "</div>"
      ],
      "text/plain": [
       "  Please state whether you view the following characters favorably, unfavorably, or are unfamiliar with him/her.  \\\n",
       "0                                           Han Solo                                                               \n",
       "\n",
       "      Unnamed: 16           Unnamed: 17       Unnamed: 18     Unnamed: 19  \\\n",
       "0  Luke Skywalker  Princess Leia Organa  Anakin Skywalker  Obi Wan Kenobi   \n",
       "\n",
       "         Unnamed: 20  Unnamed: 21       Unnamed: 22 Unnamed: 23 Unnamed: 24  \\\n",
       "0  Emperor Palpatine  Darth Vader  Lando Calrissian   Boba Fett       C-3P0   \n",
       "\n",
       "  Unnamed: 25    Unnamed: 26    Unnamed: 27 Unnamed: 28  \n",
       "0       R2 D2  Jar Jar Binks  Padme Amidala        Yoda  "
      ]
     },
     "execution_count": 660,
     "metadata": {},
     "output_type": "execute_result"
    }
   ],
   "source": [
    "# We can check the given options after printing the header rows\n",
    "header.iloc[0:1,15:29]"
   ]
  },
  {
   "cell_type": "code",
   "execution_count": 661,
   "metadata": {
    "collapsed": false
   },
   "outputs": [],
   "source": [
    "# Create a map list with a specific character name\n",
    "name_maplist = {}\n",
    "for index in range(15,29):\n",
    "    name_maplist[star_wars.columns[index]]=header.iloc[0,index]\n",
    "# Rename the column names directly with the character names for selecting the liking \n",
    "star_wars = star_wars.rename(columns=name_maplist)"
   ]
  },
  {
   "cell_type": "markdown",
   "metadata": {},
   "source": [
    "### Finding the highest ranked movie"
   ]
  },
  {
   "cell_type": "code",
   "execution_count": 662,
   "metadata": {
    "collapsed": false
   },
   "outputs": [],
   "source": [
    "%matplotlib inline\n",
    "import matplotlib.pyplot as plt"
   ]
  },
  {
   "cell_type": "code",
   "execution_count": 663,
   "metadata": {
    "collapsed": false
   },
   "outputs": [
    {
     "data": {
      "text/plain": [
       "ranking_1    3.732934\n",
       "ranking_2    4.087321\n",
       "ranking_3    4.341317\n",
       "ranking_4    3.272727\n",
       "ranking_5    2.513158\n",
       "ranking_6    3.047847\n",
       "dtype: float64"
      ]
     },
     "execution_count": 663,
     "metadata": {},
     "output_type": "execute_result"
    }
   ],
   "source": [
    "# Now, we can easily find out which episode is the highest ranking one. \n",
    "# compute the mean of each of the ranking columns\n",
    "\n",
    "star_wars[star_wars.columns[9:15]].mean()"
   ]
  },
  {
   "cell_type": "code",
   "execution_count": 664,
   "metadata": {
    "collapsed": false
   },
   "outputs": [
    {
     "data": {
      "text/plain": [
       "<matplotlib.text.Text at 0xe7d5b38>"
      ]
     },
     "execution_count": 664,
     "metadata": {},
     "output_type": "execute_result"
    },
    {
     "data": {
      "image/png": "[encoded data removed]",
      "text/plain": [
       "<matplotlib.figure.Figure at 0xf987588>"
      ]
     },
     "metadata": {},
     "output_type": "display_data"
    }
   ],
   "source": [
    "# Create a bar chart to show the average ranking score of each episode.\n",
    "plt.bar(np.arange(6),star_wars[star_wars.columns[9:15]].mean(), align=\"center\",\n",
    "        tick_label=[\"I\",\"II\", \"III\", \"IV\",\"V\", \"VI\"])\n",
    "plt.xlabel(\"Star Wars Episodes\")\n",
    "plt.ylabel(\"Average Score\")\n",
    "plt.title(\"Favorite Star Wars Ranking\")"
   ]
  },
  {
   "cell_type": "markdown",
   "metadata": {},
   "source": [
    "Since a lower ranking is better, **Episode V The Empire Strikes Back** has the lowest mean which means it is the most favorite among the series."
   ]
  },
  {
   "cell_type": "markdown",
   "metadata": {},
   "source": [
    "### Finding the most seen movie"
   ]
  },
  {
   "cell_type": "code",
   "execution_count": 665,
   "metadata": {
    "collapsed": false,
    "scrolled": true
   },
   "outputs": [
    {
     "data": {
      "text/plain": [
       "<matplotlib.text.Text at 0x1042b048>"
      ]
     },
     "execution_count": 665,
     "metadata": {},
     "output_type": "execute_result"
    },
    {
     "data": {
      "image/png": "[encoded data removed]",
      "text/plain": [
       "<matplotlib.figure.Figure at 0x11aaf358>"
      ]
     },
     "metadata": {},
     "output_type": "display_data"
    }
   ],
   "source": [
    "# Creat a bar chart to show how many people have seen each episode\n",
    "plt.bar(range(6),star_wars[star_wars.columns[3:9]].sum(),\n",
    "        tick_label=[\"I\",\"II\", \"III\", \"IV\",\"V\", \"VI\"], align = \"center\")\n",
    "plt.xlabel(\"Star Wars Episodes\")\n",
    "plt.ylabel(\"# of respondents saw this movie\")\n",
    "plt.title(\"How many people have seen this movie?\")"
   ]
  },
  {
   "cell_type": "markdown",
   "metadata": {},
   "source": [
    "It appears that better ranked episodes tend to be watched by more repondents as well. \n",
    "- The two **episode(V & VI)** with top 2 rankings have also been seen by more respondents as well. \n",
    "- Star war III is the least favorite one on average liking, and it's also been watched by the fewest people according to the response."
   ]
  },
  {
   "cell_type": "markdown",
   "metadata": {},
   "source": [
    "### Attachment to movie characters\n",
    "- Which character is the most liked?\n",
    "- Which character is the most disliked?\n",
    "- Which character creates the most controversy? (split between dislikes and likes)"
   ]
  },
  {
   "cell_type": "code",
   "execution_count": 666,
   "metadata": {
    "collapsed": false
   },
   "outputs": [],
   "source": [
    "# Create a new dataframe as a counter of the voting results\n",
    "character_series = star_wars[star_wars.columns[15]].value_counts()\n",
    "character_df = pd.DataFrame({character_series.name:character_series.values},index=character_series.index)\n",
    "for col in range(16,29):\n",
    "    character_series = star_wars[star_wars.columns[col]].value_counts()\n",
    "    character_df[character_series.name] = character_series.values"
   ]
  },
  {
   "cell_type": "code",
   "execution_count": 667,
   "metadata": {
    "collapsed": false
   },
   "outputs": [],
   "source": [
    "# Add a row to show the controversy(likes/dislikes), the closer the value is to 1, the more controversial this character is.\n",
    "character_df.loc['controversy'] = (character_df.iloc[0]+character_df.iloc[1])/(character_df.iloc[4]+character_df.iloc[5])"
   ]
  },
  {
   "cell_type": "code",
   "execution_count": 668,
   "metadata": {
    "collapsed": false
   },
   "outputs": [
    {
     "data": {
      "text/html": [
       "<div>\n",
       "<table border=\"1\" class=\"dataframe\">\n",
       "  <thead>\n",
       "    <tr style=\"text-align: right;\">\n",
       "      <th></th>\n",
       "      <th>Han Solo</th>\n",
       "      <th>Luke Skywalker</th>\n",
       "      <th>Princess Leia Organa</th>\n",
       "      <th>Anakin Skywalker</th>\n",
       "      <th>Obi Wan Kenobi</th>\n",
       "      <th>Emperor Palpatine</th>\n",
       "      <th>Darth Vader</th>\n",
       "      <th>Lando Calrissian</th>\n",
       "      <th>Boba Fett</th>\n",
       "      <th>C-3P0</th>\n",
       "      <th>R2 D2</th>\n",
       "      <th>Jar Jar Binks</th>\n",
       "      <th>Padme Amidala</th>\n",
       "      <th>Yoda</th>\n",
       "    </tr>\n",
       "  </thead>\n",
       "  <tbody>\n",
       "    <tr>\n",
       "      <th>Very favorably</th>\n",
       "      <td>610.00</td>\n",
       "      <td>552.00</td>\n",
       "      <td>547.00</td>\n",
       "      <td>269.00</td>\n",
       "      <td>591</td>\n",
       "      <td>213.00</td>\n",
       "      <td>310.00</td>\n",
       "      <td>236.00</td>\n",
       "      <td>248.00</td>\n",
       "      <td>474.00</td>\n",
       "      <td>562.00</td>\n",
       "      <td>204.00</td>\n",
       "      <td>207.00</td>\n",
       "      <td>605.00</td>\n",
       "    </tr>\n",
       "    <tr>\n",
       "      <th>Somewhat favorably</th>\n",
       "      <td>151.00</td>\n",
       "      <td>219.00</td>\n",
       "      <td>210.00</td>\n",
       "      <td>245.00</td>\n",
       "      <td>159</td>\n",
       "      <td>156.00</td>\n",
       "      <td>171.00</td>\n",
       "      <td>223.00</td>\n",
       "      <td>153.00</td>\n",
       "      <td>229.00</td>\n",
       "      <td>185.00</td>\n",
       "      <td>164.00</td>\n",
       "      <td>183.00</td>\n",
       "      <td>144.00</td>\n",
       "    </tr>\n",
       "    <tr>\n",
       "      <th>Neither favorably nor unfavorably (neutral)</th>\n",
       "      <td>44.00</td>\n",
       "      <td>38.00</td>\n",
       "      <td>48.00</td>\n",
       "      <td>135.00</td>\n",
       "      <td>43</td>\n",
       "      <td>143.00</td>\n",
       "      <td>149.00</td>\n",
       "      <td>148.00</td>\n",
       "      <td>138.00</td>\n",
       "      <td>79.00</td>\n",
       "      <td>57.00</td>\n",
       "      <td>130.00</td>\n",
       "      <td>168.00</td>\n",
       "      <td>51.00</td>\n",
       "    </tr>\n",
       "    <tr>\n",
       "      <th>Unfamiliar (N/A)</th>\n",
       "      <td>15.00</td>\n",
       "      <td>13.00</td>\n",
       "      <td>12.00</td>\n",
       "      <td>83.00</td>\n",
       "      <td>17</td>\n",
       "      <td>124.00</td>\n",
       "      <td>102.00</td>\n",
       "      <td>142.00</td>\n",
       "      <td>132.00</td>\n",
       "      <td>23.00</td>\n",
       "      <td>10.00</td>\n",
       "      <td>112.00</td>\n",
       "      <td>164.00</td>\n",
       "      <td>10.00</td>\n",
       "    </tr>\n",
       "    <tr>\n",
       "      <th>Somewhat unfavorably</th>\n",
       "      <td>8.00</td>\n",
       "      <td>6.00</td>\n",
       "      <td>8.00</td>\n",
       "      <td>52.00</td>\n",
       "      <td>8</td>\n",
       "      <td>110.00</td>\n",
       "      <td>84.00</td>\n",
       "      <td>63.00</td>\n",
       "      <td>96.00</td>\n",
       "      <td>15.00</td>\n",
       "      <td>10.00</td>\n",
       "      <td>109.00</td>\n",
       "      <td>58.00</td>\n",
       "      <td>8.00</td>\n",
       "    </tr>\n",
       "    <tr>\n",
       "      <th>Very unfavorably</th>\n",
       "      <td>1.00</td>\n",
       "      <td>3.00</td>\n",
       "      <td>6.00</td>\n",
       "      <td>39.00</td>\n",
       "      <td>7</td>\n",
       "      <td>68.00</td>\n",
       "      <td>10.00</td>\n",
       "      <td>8.00</td>\n",
       "      <td>45.00</td>\n",
       "      <td>7.00</td>\n",
       "      <td>6.00</td>\n",
       "      <td>102.00</td>\n",
       "      <td>34.00</td>\n",
       "      <td>8.00</td>\n",
       "    </tr>\n",
       "    <tr>\n",
       "      <th>controversy</th>\n",
       "      <td>84.56</td>\n",
       "      <td>85.67</td>\n",
       "      <td>54.07</td>\n",
       "      <td>5.65</td>\n",
       "      <td>50</td>\n",
       "      <td>2.07</td>\n",
       "      <td>5.12</td>\n",
       "      <td>6.46</td>\n",
       "      <td>2.84</td>\n",
       "      <td>31.95</td>\n",
       "      <td>46.69</td>\n",
       "      <td>1.74</td>\n",
       "      <td>4.24</td>\n",
       "      <td>46.81</td>\n",
       "    </tr>\n",
       "  </tbody>\n",
       "</table>\n",
       "</div>"
      ],
      "text/plain": [
       "                                             Han Solo  Luke Skywalker  \\\n",
       "Very favorably                                 610.00          552.00   \n",
       "Somewhat favorably                             151.00          219.00   \n",
       "Neither favorably nor unfavorably (neutral)     44.00           38.00   \n",
       "Unfamiliar (N/A)                                15.00           13.00   \n",
       "Somewhat unfavorably                             8.00            6.00   \n",
       "Very unfavorably                                 1.00            3.00   \n",
       "controversy                                     84.56           85.67   \n",
       "\n",
       "                                             Princess Leia Organa  \\\n",
       "Very favorably                                             547.00   \n",
       "Somewhat favorably                                         210.00   \n",
       "Neither favorably nor unfavorably (neutral)                 48.00   \n",
       "Unfamiliar (N/A)                                            12.00   \n",
       "Somewhat unfavorably                                         8.00   \n",
       "Very unfavorably                                             6.00   \n",
       "controversy                                                 54.07   \n",
       "\n",
       "                                             Anakin Skywalker  Obi Wan Kenobi  \\\n",
       "Very favorably                                         269.00             591   \n",
       "Somewhat favorably                                     245.00             159   \n",
       "Neither favorably nor unfavorably (neutral)            135.00              43   \n",
       "Unfamiliar (N/A)                                        83.00              17   \n",
       "Somewhat unfavorably                                    52.00               8   \n",
       "Very unfavorably                                        39.00               7   \n",
       "controversy                                              5.65              50   \n",
       "\n",
       "                                             Emperor Palpatine  Darth Vader  \\\n",
       "Very favorably                                          213.00       310.00   \n",
       "Somewhat favorably                                      156.00       171.00   \n",
       "Neither favorably nor unfavorably (neutral)             143.00       149.00   \n",
       "Unfamiliar (N/A)                                        124.00       102.00   \n",
       "Somewhat unfavorably                                    110.00        84.00   \n",
       "Very unfavorably                                         68.00        10.00   \n",
       "controversy                                               2.07         5.12   \n",
       "\n",
       "                                             Lando Calrissian  Boba Fett  \\\n",
       "Very favorably                                         236.00     248.00   \n",
       "Somewhat favorably                                     223.00     153.00   \n",
       "Neither favorably nor unfavorably (neutral)            148.00     138.00   \n",
       "Unfamiliar (N/A)                                       142.00     132.00   \n",
       "Somewhat unfavorably                                    63.00      96.00   \n",
       "Very unfavorably                                         8.00      45.00   \n",
       "controversy                                              6.46       2.84   \n",
       "\n",
       "                                              C-3P0   R2 D2  Jar Jar Binks  \\\n",
       "Very favorably                               474.00  562.00         204.00   \n",
       "Somewhat favorably                           229.00  185.00         164.00   \n",
       "Neither favorably nor unfavorably (neutral)   79.00   57.00         130.00   \n",
       "Unfamiliar (N/A)                              23.00   10.00         112.00   \n",
       "Somewhat unfavorably                          15.00   10.00         109.00   \n",
       "Very unfavorably                               7.00    6.00         102.00   \n",
       "controversy                                   31.95   46.69           1.74   \n",
       "\n",
       "                                             Padme Amidala    Yoda  \n",
       "Very favorably                                      207.00  605.00  \n",
       "Somewhat favorably                                  183.00  144.00  \n",
       "Neither favorably nor unfavorably (neutral)         168.00   51.00  \n",
       "Unfamiliar (N/A)                                    164.00   10.00  \n",
       "Somewhat unfavorably                                 58.00    8.00  \n",
       "Very unfavorably                                     34.00    8.00  \n",
       "controversy                                           4.24   46.81  "
      ]
     },
     "execution_count": 668,
     "metadata": {},
     "output_type": "execute_result"
    }
   ],
   "source": [
    "# Show the voting summary by characters, display with only two decimal places\n",
    "character_df.round(2)"
   ]
  },
  {
   "cell_type": "markdown",
   "metadata": {},
   "source": [
    "1. **Han Solo** and **Yoda** are the top 2 charaters in terms of \"Very favorably\". They are pretty close in votes.\n",
    "2. **Jar Jar Binks** and **Emperor Palpatineis** are the top 2 most disliked character. \n",
    "3. Also, **Jar Jar Binks** and **Emperor Palpatineis** are the top 2 controversial characters, they've got a lot of likes as well. "
   ]
  },
  {
   "cell_type": "markdown",
   "metadata": {},
   "source": [
    "### Exploring the data by binary segments"
   ]
  },
  {
   "cell_type": "markdown",
   "metadata": {},
   "source": [
    "We've seen what the whole survey population thinks are the highest ranked movies. There are several columns that can segment the data into two groups, including:\n",
    "\n",
    "- Do you consider yourself to be a fan of the Star Wars film franchise? -- True or False.\n",
    "- Do you consider yourself to be a fan of the Star Trek franchise? -- Yes or No.\n",
    "- Gender -- Male or Female.\n",
    "\n",
    "We can further analyze by groups to see whether there are any different output."
   ]
  },
  {
   "cell_type": "markdown",
   "metadata": {},
   "source": [
    "#### Analysis by Gender"
   ]
  },
  {
   "cell_type": "code",
   "execution_count": 669,
   "metadata": {
    "collapsed": true
   },
   "outputs": [],
   "source": [
    "# Split the dataframe by gender\n",
    "males = star_wars[star_wars[\"Gender\"]==\"Male\"]\n",
    "females = star_wars[star_wars[\"Gender\"] ==\"Female\"]"
   ]
  },
  {
   "cell_type": "code",
   "execution_count": 670,
   "metadata": {
    "collapsed": false
   },
   "outputs": [
    {
     "data": {
      "image/png": "[encoded data removed]",
      "text/plain": [
       "<matplotlib.figure.Figure at 0x1070ce80>"
      ]
     },
     "metadata": {},
     "output_type": "display_data"
    },
    {
     "data": {
      "image/png": "[encoded data removed]",
      "text/plain": [
       "<matplotlib.figure.Figure at 0xd428550>"
      ]
     },
     "metadata": {},
     "output_type": "display_data"
    }
   ],
   "source": [
    "# Create bar charts to show the ranking by gender \n",
    "plt.bar(range(6), males[males.columns[9:15]].mean(),tick_label=[\"I\",\"II\", \"III\", \"IV\",\"V\", \"VI\"], align = \"center\")\n",
    "plt.xlabel(\"Star Wars Episodes\")\n",
    "plt.ylabel(\"Average Score\")\n",
    "plt.title(\"Favorite Star Wars Ranking by Male\")\n",
    "plt.show()\n",
    "plt.bar(range(6), females[females.columns[9:15]].mean(),tick_label=[\"I\",\"II\", \"III\", \"IV\",\"V\", \"VI\"], align = \"center\")\n",
    "plt.xlabel(\"Star Wars Episodes\")\n",
    "plt.ylabel(\"Average Score\")\n",
    "plt.title(\"Favorite Star Wars Ranking by Female\")\n",
    "plt.show()"
   ]
  },
  {
   "cell_type": "markdown",
   "metadata": {},
   "source": [
    "The plots show that male and female respondents have **similar liking scores** for star war movies."
   ]
  },
  {
   "cell_type": "code",
   "execution_count": 671,
   "metadata": {
    "collapsed": false
   },
   "outputs": [
    {
     "data": {
      "image/png": "[encoded data removed]",
      "text/plain": [
       "<matplotlib.figure.Figure at 0x11ba72e8>"
      ]
     },
     "metadata": {},
     "output_type": "display_data"
    }
   ],
   "source": [
    "# Create bar charts to show the # of respondents saw each episode by gender \n",
    "fig = plt.figure(figsize=(12,6))\n",
    "ax1 = fig.add_subplot(1,2,1)\n",
    "ax2 = fig.add_subplot(1,2,2,sharey=ax1)\n",
    "ax1.bar(range(6),males[males.columns[3:9]].sum())\n",
    "ax1.set_xlabel(\"Star Wars Episodes\")\n",
    "ax1.set_ylabel(\"# of Males saw this movie\")\n",
    "ax1.set_title(\"Males have seen this movie\")\n",
    "ax1.set_xticks(np.arange(6) + 0.4)\n",
    "ax1.set_xticklabels((\"I\",\"II\", \"III\", \"IV\",\"V\", \"VI\"))\n",
    "ax2.bar(range(6), females[females.columns[3:9]].sum())\n",
    "ax2.set_xlabel(\"Star Wars Episodes\")\n",
    "ax2.set_ylabel(\"# of Females saw this movie\")\n",
    "ax2.set_title(\"Females have seen this movie\")\n",
    "ax2.set_xticks(np.arange(6) + 0.4)\n",
    "ax2.set_xticklabels((\"I\",\"II\", \"III\", \"IV\",\"V\", \"VI\"))\n",
    "plt.show()"
   ]
  },
  {
   "cell_type": "markdown",
   "metadata": {},
   "source": [
    "- The plots show that for each episode, there are more males have seen it than females. \n",
    "- There are more than 300 male respondents have seen every star movies (I~VI). It indicates that the series is really popular amoung males.\n",
    "- For females, there is a drop in viewers since episode I, and then it seems star wars regained its popularity from episode V,  as it shows that there is a jump in number of females who have watched the later released episode V & VI. "
   ]
  },
  {
   "cell_type": "markdown",
   "metadata": {},
   "source": [
    "#### Analysis by Fans vs Non-Fans"
   ]
  },
  {
   "cell_type": "code",
   "execution_count": 672,
   "metadata": {
    "collapsed": false
   },
   "outputs": [
    {
     "data": {
      "text/plain": [
       "No     641\n",
       "Yes    427\n",
       "NaN    118\n",
       "Name: Do you consider yourself to be a fan of the Star Trek franchise?, dtype: int64"
      ]
     },
     "execution_count": 672,
     "metadata": {},
     "output_type": "execute_result"
    }
   ],
   "source": [
    "# How many respondents are fans? \n",
    "star_wars['Do you consider yourself to be a fan of the Star Trek franchise?'].value_counts(dropna=False)"
   ]
  },
  {
   "cell_type": "code",
   "execution_count": 673,
   "metadata": {
    "collapsed": false
   },
   "outputs": [],
   "source": [
    "# Split the dataframe into two groups: fans and non_fans, ignore the rows with NaN values \n",
    "fans = star_wars[star_wars['Do you consider yourself to be a fan of the Star Trek franchise?']==\"Yes\"]\n",
    "non_fans = star_wars[star_wars['Do you consider yourself to be a fan of the Star Trek franchise?']==\"No\"]"
   ]
  },
  {
   "cell_type": "code",
   "execution_count": 674,
   "metadata": {
    "collapsed": false
   },
   "outputs": [
    {
     "data": {
      "image/png": "[encoded data removed]",
      "text/plain": [
       "<matplotlib.figure.Figure at 0x106156d8>"
      ]
     },
     "metadata": {},
     "output_type": "display_data"
    }
   ],
   "source": [
    "# Create bar charts to show the ranking by fans vs non_fans \n",
    "fig = plt.figure(figsize=(12,6))\n",
    "ax1 = fig.add_subplot(1,2,1)\n",
    "ax2 = fig.add_subplot(1,2,2,sharey=ax1)\n",
    "ax1.bar(range(6), fans[fans.columns[9:15]].mean())\n",
    "ax1.set_xlabel(\"Star Wars Episodes\")\n",
    "ax1.set_ylabel(\"Average Score\")\n",
    "ax1.set_title(\"Favorite Movies Ranking by Star Wars Fans\")\n",
    "ax1.set_xticks(np.arange(6) + 0.4)\n",
    "ax1.set_xticklabels((\"I\",\"II\", \"III\", \"IV\",\"V\", \"VI\"))\n",
    "ax2.bar(range(6), non_fans[non_fans.columns[9:15]].mean())\n",
    "ax2.set_xlabel(\"Star Wars Episodes\")\n",
    "ax2.set_ylabel(\"Average Score\")\n",
    "ax2.set_title(\"Favorite Movies Ranking by non_fans\")\n",
    "ax2.set_xticks(np.arange(6) + 0.4)\n",
    "ax2.set_xticklabels((\"I\",\"II\", \"III\", \"IV\",\"V\", \"VI\"))\n",
    "plt.show()"
   ]
  },
  {
   "cell_type": "code",
   "execution_count": 675,
   "metadata": {
    "collapsed": false
   },
   "outputs": [
    {
     "data": {
      "image/png": "[encoded data removed]",
      "text/plain": [
       "<matplotlib.figure.Figure at 0x109d99b0>"
      ]
     },
     "metadata": {},
     "output_type": "display_data"
    }
   ],
   "source": [
    "# Create bar charts to show the # of respondents saw each episode by gender \n",
    "fig = plt.figure(figsize=(12,6))\n",
    "ax1 = fig.add_subplot(1,2,1)\n",
    "ax2 = fig.add_subplot(1,2,2,sharey=ax1)\n",
    "ax1.bar(range(6),fans[fans.columns[3:9]].sum())\n",
    "ax1.set_xlabel(\"Star Wars Episodes\")\n",
    "ax1.set_ylabel(\"# of Fans saw this movie\")\n",
    "ax1.set_title(\"Fans have seen this movie\")\n",
    "ax1.set_xticks(np.arange(6) + 0.4)\n",
    "ax1.set_xticklabels((\"I\",\"II\", \"III\", \"IV\",\"V\", \"VI\"))\n",
    "ax2.bar(range(6), non_fans[non_fans.columns[3:9]].sum())\n",
    "ax2.set_xlabel(\"Star Wars Episodes\")\n",
    "ax2.set_ylabel(\"# of non_fans saw this movie\")\n",
    "ax2.set_title(\"non_fans have seen this movie\")\n",
    "ax2.set_xticks(np.arange(6) + 0.4)\n",
    "ax2.set_xticklabels((\"I\",\"II\", \"III\", \"IV\",\"V\", \"VI\"))\n",
    "plt.show()"
   ]
  },
  {
   "cell_type": "code",
   "execution_count": 676,
   "metadata": {
    "collapsed": false
   },
   "outputs": [
    {
     "data": {
      "text/plain": [
       "<matplotlib.legend.Legend at 0xef3f400>"
      ]
     },
     "execution_count": 676,
     "metadata": {},
     "output_type": "execute_result"
    }
   ],
   "source": [
    "ax.legend((rects1, rects2), ('fans', 'non_fans'),loc='upper center')\n",
    "ax.legend((rects1, rects2), ('fans', 'non_fans'),bbox_to_anchor=(0, 1), loc='upper left', ncol=1)"
   ]
  },
  {
   "cell_type": "code",
   "execution_count": 677,
   "metadata": {
    "collapsed": false
   },
   "outputs": [
    {
     "data": {
      "image/png": "[encoded data removed]",
      "text/plain": [
       "<matplotlib.figure.Figure at 0xf946b00>"
      ]
     },
     "metadata": {},
     "output_type": "display_data"
    }
   ],
   "source": [
    "fig, ax = plt.subplots()\n",
    "width = 0.35\n",
    "rects1 = ax.bar(np.arange(6), fans[fans.columns[3:9]].sum(), width, color='r')\n",
    "rects2 = ax.bar(np.arange(6) + width, non_fans[non_fans.columns[3:9]].sum(), width, color='g')\n",
    "# add some text for labels, title and axes ticks\n",
    "ax.set_xlabel('Star War Episodes')\n",
    "ax.set_ylabel('# of respondents saw this movie')\n",
    "ax.set_title('# of fans and non_fans saw the movies')\n",
    "ax.set_xticks(np.arange(6) + width)\n",
    "ax.set_xticklabels((\"I\",\"II\", \"III\", \"IV\",\"V\", \"VI\"))\n",
    "ax.legend((rects1, rects2), ('fans', 'non_fans'), loc=9, bbox_to_anchor=(0.5, -0.15), ncol=2)\n",
    "plt.show()"
   ]
  },
  {
   "cell_type": "markdown",
   "metadata": {},
   "source": [
    "We know that 641 surveyees are non-fans and 427 respondents are fans. It is obvious that there are far more # of fans who saw the movies than non-fans. More than 80% of star wars fans have seen every episode regardless of the rating. However, for non-fans, it seems that their willingness to watch the movie would dramatically drop if the rating wasn't very good, as shown in the graph that for low-ranking episodes (II, III, IV), there were much less non_fans who saw those movies.  "
   ]
  }
 ],
 "metadata": {
  "kernelspec": {
   "display_name": "Python 2",
   "language": "python",
   "name": "python2"
  },
  "language_info": {
   "codemirror_mode": {
    "name": "ipython",
    "version": 2
   },
   "file_extension": ".py",
   "mimetype": "text/x-python",
   "name": "python",
   "nbconvert_exporter": "python",
   "pygments_lexer": "ipython2",
   "version": "2.7.11"
  }
 },
 "nbformat": 4,
 "nbformat_minor": 0
}
